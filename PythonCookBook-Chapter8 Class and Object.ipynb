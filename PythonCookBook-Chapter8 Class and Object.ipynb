{
 "cells": [
  {
   "cell_type": "markdown",
   "metadata": {},
   "source": [
    "### 8.1. Changing the String Representation of Instances"
   ]
  },
  {
   "cell_type": "code",
   "execution_count": 1,
   "metadata": {
    "collapsed": true
   },
   "outputs": [],
   "source": [
    "class Pair:\n",
    "    def __init__(self, x, y):\n",
    "        self.x = x\n",
    "        self.y = y\n",
    "    def __repr__(self):\n",
    "        return 'Pair({0.x!r}, {0.y!r})'.format(self)\n",
    "    def __str__(self):\n",
    "        return '({0.x!s}, {0.y!s})'.format(self)"
   ]
  },
  {
   "cell_type": "code",
   "execution_count": 3,
   "metadata": {},
   "outputs": [
    {
     "name": "stdout",
     "output_type": "stream",
     "text": [
      "(3, 4)\n",
      "p is Pair(3, 4)\n",
      "p is (3, 4)\n"
     ]
    }
   ],
   "source": [
    "p = Pair(3,4)\n",
    "print(p)\n",
    "print('p is {0!r}'.format(p))\n",
    "print('p is {0}'.format(p))"
   ]
  },
  {
   "cell_type": "markdown",
   "metadata": {},
   "source": [
    "### 8.2. Customizing String Formatting"
   ]
  },
  {
   "cell_type": "code",
   "execution_count": 3,
   "metadata": {
    "collapsed": true
   },
   "outputs": [],
   "source": [
    "_formats = {'ymd':'{d.year}-{d.month}-{d.day}',\n",
    "           'mdy':'{d.month}/{d.day}/{d.year}'}\n",
    "class Date:\n",
    "    def __init__(self, year, month, day):\n",
    "        self.year = year\n",
    "        self.month = month\n",
    "        self.day = day\n",
    "    def __format__(self, code):\n",
    "        if code == '':\n",
    "            code = 'ymd'\n",
    "        fmt = _formats[code]\n",
    "        return fmt.format(d=self)"
   ]
  },
  {
   "cell_type": "code",
   "execution_count": 4,
   "metadata": {},
   "outputs": [
    {
     "data": {
      "text/plain": [
       "'12/23/2012'"
      ]
     },
     "execution_count": 4,
     "metadata": {},
     "output_type": "execute_result"
    }
   ],
   "source": [
    "d = Date(2012, 12, 23)\n",
    "format(d, 'mdy')"
   ]
  },
  {
   "cell_type": "markdown",
   "metadata": {
    "collapsed": true
   },
   "source": [
    "### 8.3. Making Objects Support the Context-Management\n",
    "Protocol\n",
    "define __init__ __enter__ __exit__ function on the python class, the __exit__ function will do the clean job after __enter__"
   ]
  },
  {
   "cell_type": "code",
   "execution_count": 13,
   "metadata": {},
   "outputs": [
    {
     "name": "stdout",
     "output_type": "stream",
     "text": [
      "init funcitno to do the initializing\n",
      "entering the enter funciton\n",
      "enter connection\n",
      "b'HTTP/1.1 301 Moved Permanently\\r\\nServer: Varnish\\r\\nRetry-After: 0\\r\\nLocation: https://www.python.org/index.html\\r\\nContent-Length: 0\\r\\nAccept-Ranges: bytes\\r\\nDate: Mon, 26 Mar 2018 03:44:38 GMT\\r\\nVia: 1.1 varnish\\r\\nConnection: close\\r\\nX-Served-By: cache-hnd18740-HND\\r\\nX-Cache: HIT\\r\\nX-Cache-Hits: 0\\r\\nX-Timer: S1522035878.384122,VS0,VE0\\r\\nStrict-Transport-Security: max-age=63072000; includeSubDomains\\r\\n\\r\\n'\n",
      "exit function to destory connection\n",
      "init funcitno to do the initializing\n",
      "entering the enter funciton\n",
      "enter connection\n",
      "b\"HTTP/1.1 200 OK\\r\\nDate: Mon, 26 Mar 2018 3:44:34 GMT\\r\\nConnection:Keep-Alive\\r\\nContent-Length: 606\\r\\nCache-Control: private, no-cache, no-store, max-age=0\\r\\nExpires: Mon, 01 Jan 1990 0:00:00 GMT\\r\\n\\r\\n<html><head><title>Not Found</title></head><body><center><br><br><br><br><br><b><big>Not Found</big></b><br><br><table cellpadding=10 cellspacing=0 width=400 border=1><tr><td>Your domain could not be found in our forwarding or stealth forwarding tables. <br><br>If you recently set your name servers, please wait a few minutes and try again. Sometimes restarting your browser helps.<br><br>If you require further assistance, please visit our main site at <a href='http://www.dynadot.com'>www.dynadot.com</a>.</td></tr></table><br><br><img src='http://parkcloud.dynadot.com/logo.gif'></center></body></html>\"\n",
      "exit function to destory connection\n"
     ]
    }
   ],
   "source": [
    "from socket import socket, AF_INET, SOCK_STREAM\n",
    "class LazyConnection:\n",
    "    def __init__(self, address, family=AF_INET, type=SOCK_STREAM):\n",
    "        print('init funcitno to do the initializing')\n",
    "        self.address = address\n",
    "        self.family = AF_INET\n",
    "        self.type = SOCK_STREAM\n",
    "        self.sock = None\n",
    "    def __enter__(self):\n",
    "        print('entering the enter funciton')\n",
    "        if self.sock is not None:\n",
    "            raise RuntimeError(\"Already connected\")\n",
    "        self.sock = socket(self.family, self.type)\n",
    "        self.sock.connect(self.address)\n",
    "        return self.sock\n",
    "    def __exit__(self, exc_ty, exc_val, tb):\n",
    "        print('exit function to destory connection')\n",
    "        self.sock.close()\n",
    "        self.sock = None\n",
    "from functools import partial\n",
    "\n",
    "conn = LazyConnection(('www.python.org', 80))\n",
    "with conn as s:\n",
    "    print('enter connection')\n",
    "    s.send(b'GET /index.html HTTP/1.0\\r\\n')\n",
    "    s.send(b'Host: www.python.org\\r\\n')\n",
    "    s.send(b'\\r\\n')\n",
    "    resp = b''.join(iter(partial(s.recv, 1892), b''))\n",
    "    print(resp)\n",
    "# test code for create another connection\n",
    "conn2 = LazyConnection(('www.python2.org', 80))\n",
    "with conn2 as s:\n",
    "    print('enter connection')\n",
    "    s.send(b'GET /index.html HTTP/1.0\\r\\n')\n",
    "    s.send(b'Host: www.python.org\\r\\n')\n",
    "    s.send(b'\\r\\n')\n",
    "    resp = b''.join(iter(partial(s.recv, 1892), b''))\n",
    "    print(resp)"
   ]
  },
  {
   "cell_type": "markdown",
   "metadata": {},
   "source": [
    "### 8.4. Saving Memory When Creating a Large Number of\n",
    "Instances"
   ]
  },
  {
   "cell_type": "code",
   "execution_count": 26,
   "metadata": {},
   "outputs": [
    {
     "name": "stdout",
     "output_type": "stream",
     "text": [
      "3\n"
     ]
    }
   ],
   "source": [
    "class Date:\n",
    "    __slots__ = ['year', 'month', 'day','week']\n",
    "    def __init__(self, year, month, day):\n",
    "        self.year = year\n",
    "        self.month = month\n",
    "        self.day = day\n",
    "p = Date(2012, 2, 3)\n",
    "p.month = 3\n",
    "print(p.month)"
   ]
  },
  {
   "cell_type": "markdown",
   "metadata": {},
   "source": [
    "### 8.5. Encapsulating Names in a Class\n",
    "Python 用下划线作为变量前缀和后缀指定特殊变量。\n",
    "\n",
    "\n",
    "_xxx 不能用'from moduleimport *'导入\n",
    "\n",
    "__xxx__ 系统定义名字\n",
    "\n",
    "__xxx 类中的私有变量名\n",
    "\n",
    "\n",
    "核心风格：避免用下划线作为变量名的开始。\n",
    " \n",
    "\n",
    "结论：\n",
    "\n",
    "1、_xxx 不能用于’from module import *’ 以单下划线开头的表示的是protected类型的变量。\n",
    "\n",
    "即保护类型只能允许其本身与子类进行访问。\n",
    "\n",
    "2、__xxx 双下划线的表示的是私有类型的变量。只能是允许这个类本身进行访问了。连子类也\n",
    "\n",
    "不可以\n",
    "\n",
    "3、__xxx___ 定义的是特列方法。像__init__之类的"
   ]
  },
  {
   "cell_type": "code",
   "execution_count": 38,
   "metadata": {},
   "outputs": [
    {
     "name": "stdout",
     "output_type": "stream",
     "text": [
      "10\n",
      "10\n",
      "12\n"
     ]
    }
   ],
   "source": [
    "class Temple:\n",
    "    __year = 1\n",
    "    def changeYear(self, year):\n",
    "        self.__year = year\n",
    "    def printyear(self):\n",
    "        print(self.__year)\n",
    "t = Temple()\n",
    "t.changeYear(10)\n",
    "t.printyear()\n",
    "t.__year = 11\n",
    "t.printyear()\n",
    "t.changeYear(12)\n",
    "t.printyear()"
   ]
  },
  {
   "cell_type": "markdown",
   "metadata": {},
   "source": [
    "### 8.6. Creating Managed Attributes\n",
    "Problem\n",
    "You want to add extra processing (e.g., type checking or validation) to the getting or\n",
    "setting of an instance attribute"
   ]
  },
  {
   "cell_type": "code",
   "execution_count": 46,
   "metadata": {},
   "outputs": [
    {
     "name": "stdout",
     "output_type": "stream",
     "text": [
      "call the setter\n",
      "call the getter\n",
      "call the setter\n"
     ]
    }
   ],
   "source": [
    "class Person:\n",
    "    def __init__(self, first_name):\n",
    "        self.first_name = first_name\n",
    "    @property\n",
    "    def first_name(self):\n",
    "        print('call the getter')\n",
    "        return self._first_name\n",
    "    @first_name.setter\n",
    "    def first_name(self, value):\n",
    "        print('call the setter')\n",
    "        if not isinstance(value, str):\n",
    "            raise TypeError('Expectd a string')\n",
    "        self._first_name = value\n",
    "    @first_name.deleter\n",
    "    def first_name(self):\n",
    "        print('call the deleter')\n",
    "        raise AttributeError(\"can't delete attribute\")\n",
    "a = Person('Guido')\n",
    "a.first_name\n",
    "a.first_name  = '100'"
   ]
  },
  {
   "cell_type": "markdown",
   "metadata": {},
   "source": [
    "### 8.7. Calling a Method on a Parent Class"
   ]
  },
  {
   "cell_type": "code",
   "execution_count": 51,
   "metadata": {},
   "outputs": [
    {
     "name": "stdout",
     "output_type": "stream",
     "text": [
      "B.spam\n",
      "a.spam\n"
     ]
    }
   ],
   "source": [
    "class A:\n",
    "    def spam(self):\n",
    "        print('a.spam')\n",
    "class B(A):\n",
    "    def spam(self):\n",
    "        print('B.spam')\n",
    "        super().spam()\n",
    "b = B()\n",
    "b.spam()"
   ]
  },
  {
   "cell_type": "code",
   "execution_count": 67,
   "metadata": {},
   "outputs": [
    {
     "name": "stdout",
     "output_type": "stream",
     "text": [
      "Base.__init__\n",
      "B.__init__\n",
      "A.__init__\n",
      "C.__init__\n"
     ]
    },
    {
     "data": {
      "text/plain": [
       "(__main__.C, __main__.A, __main__.B, __main__.Base, object)"
      ]
     },
     "execution_count": 67,
     "metadata": {},
     "output_type": "execute_result"
    }
   ],
   "source": [
    "class Base:\n",
    "    def __init__(self):\n",
    "        print('Base.__init__')\n",
    "class A(Base):\n",
    "    def __init__(self):\n",
    "        super().__init__()\n",
    "        print('A.__init__')\n",
    "class B(Base):\n",
    "    def __init__(self):\n",
    "        super().__init__()\n",
    "        print('B.__init__')\n",
    "class C(A,B):\n",
    "    def __init__(self):\n",
    "        super().__init__()\n",
    "        print('C.__init__')\n",
    "c = C()\n",
    "C.__mro__"
   ]
  },
  {
   "cell_type": "markdown",
   "metadata": {},
   "source": [
    "#### smaple of MRO"
   ]
  },
  {
   "cell_type": "code",
   "execution_count": 65,
   "metadata": {},
   "outputs": [
    {
     "name": "stdout",
     "output_type": "stream",
     "text": [
      "A.spam\n",
      "B.spam\n"
     ]
    },
    {
     "data": {
      "text/plain": [
       "(__main__.C, __main__.A, __main__.B, object)"
      ]
     },
     "execution_count": 65,
     "metadata": {},
     "output_type": "execute_result"
    }
   ],
   "source": [
    "class A:\n",
    "    def spam(self):\n",
    "        print('A.spam')\n",
    "        super().spam()\n",
    "class B:\n",
    "    def spam(self):\n",
    "        print('B.spam')\n",
    "class C(A, B):\n",
    "    pass\n",
    "c = C()\n",
    "c.spam()\n",
    "C.__mro__"
   ]
  },
  {
   "cell_type": "code",
   "execution_count": 71,
   "metadata": {},
   "outputs": [
    {
     "name": "stdout",
     "output_type": "stream",
     "text": [
      "Init\n",
      "5\n",
      "Add2\n",
      "7\n",
      "Mul5\n",
      "35\n",
      "36\n",
      "36\n"
     ]
    },
    {
     "data": {
      "text/plain": [
       "(__main__.Incr,\n",
       " __main__.Pro,\n",
       " __main__.Mul5,\n",
       " __main__.Add2,\n",
       " __main__.Init,\n",
       " object)"
      ]
     },
     "execution_count": 71,
     "metadata": {},
     "output_type": "execute_result"
    }
   ],
   "source": [
    "class Init(object):\n",
    "    def __init__(self, value):\n",
    "        print('Init')\n",
    "        self.value = value\n",
    "        print(self.value)\n",
    "\n",
    "\n",
    "class Add2(Init):\n",
    "    def __init__(self, value):\n",
    "        super(Add2, self).__init__(value)\n",
    "        print('Add2')\n",
    "        # self.value += 2\n",
    "        self.value = 2 + self.value\n",
    "        print(self.value)\n",
    "\n",
    "\n",
    "class Mul5(Init):\n",
    "    def __init__(self, value):\n",
    "        super(Mul5, self).__init__(value)\n",
    "        print('Mul5')\n",
    "        # self.value *= 5\n",
    "        self.value = self.value * 5\n",
    "        print(self.value)\n",
    "\n",
    "\n",
    "class Pro(Mul5, Add2):\n",
    "    pass\n",
    "\n",
    "\n",
    "class Incr(Pro):\n",
    "    def __init__(self, value):\n",
    "        super(Incr, self).__init__(value)\n",
    "        # self.value += 1\n",
    "        self.value = self.value + 1\n",
    "        print(self.value)\n",
    "\n",
    "p = Incr(5)\n",
    "print(p.value) #查看你的结果如果是36 \n",
    "Incr.__mro__"
   ]
  },
  {
   "cell_type": "markdown",
   "metadata": {},
   "source": [
    "### 8.8. Extending a Property in a Subclass"
   ]
  },
  {
   "cell_type": "code",
   "execution_count": 84,
   "metadata": {},
   "outputs": [
    {
     "name": "stdout",
     "output_type": "stream",
     "text": [
      "setting name to  Guido\n",
      "Getting name\n",
      "Guido\n",
      "setting name to  Larry\n",
      "Getting name\n",
      "Getting name\n",
      "Larry\n"
     ]
    }
   ],
   "source": [
    "class Person:\n",
    "    def __init__(self, name):\n",
    "        self.name = name\n",
    "    @property\n",
    "    def name(self):\n",
    "        return self._name\n",
    "    @name.setter\n",
    "    def name(self, value):\n",
    "        if not isinstance(value, str):\n",
    "            raise TypeError('Expected a string')\n",
    "        self._name = value\n",
    "    @name.deleter\n",
    "    def name(self):\n",
    "        raise AttributeError(\"Can't delete attribute\")\n",
    "class SubPerson(Person):\n",
    "    @property\n",
    "    def name(self):\n",
    "        print(\"Getting name\")\n",
    "        return super().name\n",
    "    @name.setter\n",
    "    def name(self, value):\n",
    "        print(\"setting name to \", value)\n",
    "        super(SubPerson, SubPerson).name.__set__(self, value)\n",
    "    @name.deleter\n",
    "    def name(self):\n",
    "        print(\"deleting name\")\n",
    "        super(SubPerson, SubPerson).name.__delete__(self)\n",
    "s = SubPerson(\"Guido\")\n",
    "print(s.name)\n",
    "s.name = \"Larry\"\n",
    "s.name\n",
    "print(s.name)"
   ]
  },
  {
   "cell_type": "code",
   "execution_count": null,
   "metadata": {
    "collapsed": true
   },
   "outputs": [],
   "source": []
  },
  {
   "cell_type": "code",
   "execution_count": null,
   "metadata": {
    "collapsed": true
   },
   "outputs": [],
   "source": []
  }
 ],
 "metadata": {
  "kernelspec": {
   "display_name": "Python 3",
   "language": "python",
   "name": "python3"
  },
  "language_info": {
   "codemirror_mode": {
    "name": "ipython",
    "version": 3
   },
   "file_extension": ".py",
   "mimetype": "text/x-python",
   "name": "python",
   "nbconvert_exporter": "python",
   "pygments_lexer": "ipython3",
   "version": "3.5.2"
  }
 },
 "nbformat": 4,
 "nbformat_minor": 2
}
