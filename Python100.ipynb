{
 "cells": [
  {
   "cell_type": "code",
   "execution_count": 1,
   "metadata": {},
   "outputs": [
    {
     "name": "stdout",
     "output_type": "stream",
     "text": [
      "1 2 3\n",
      "1 2 4\n",
      "1 3 2\n",
      "1 3 4\n",
      "1 4 2\n",
      "1 4 3\n",
      "2 1 3\n",
      "2 1 4\n",
      "2 3 1\n",
      "2 3 4\n",
      "2 4 1\n",
      "2 4 3\n",
      "3 1 2\n",
      "3 1 4\n",
      "3 2 1\n",
      "3 2 4\n",
      "3 4 1\n",
      "3 4 2\n",
      "4 1 2\n",
      "4 1 3\n",
      "4 2 1\n",
      "4 2 3\n",
      "4 3 1\n",
      "4 3 2\n"
     ]
    }
   ],
   "source": [
    "for i in range(1, 5):\n",
    "    for j in range(1, 5):\n",
    "        for k in range(1, 5):\n",
    "            if i!=j and i!=k and j!=k:\n",
    "                print(i,j,k)"
   ]
  },
  {
   "cell_type": "code",
   "execution_count": 2,
   "metadata": {},
   "outputs": [
    {
     "name": "stdout",
     "output_type": "stream",
     "text": [
      "输入利润1222\n",
      "122.2\n",
      "122.2\n"
     ]
    }
   ],
   "source": [
    "i = int(input(\"输入利润\"))\n",
    "arr = [1000000, 600000, 400000, 200000, 100000, 0]\n",
    "rat = [0.01, 0.015, 0.03, 0.05, 0.075, 0.1]\n",
    "r = 0\n",
    "for idx in range(0, 6):\n",
    "    if i > arr[idx]:\n",
    "        r+=(i-arr[idx])*rat[idx]\n",
    "        print((i-arr[idx])*rat[idx])\n",
    "        i=arr[idx]\n",
    "print(r)"
   ]
  },
  {
   "cell_type": "code",
   "execution_count": 3,
   "metadata": {},
   "outputs": [
    {
     "name": "stdout",
     "output_type": "stream",
     "text": [
      "1581.0\n",
      "261.0\n",
      "21.0\n",
      "-99.0\n"
     ]
    }
   ],
   "source": [
    "for x in range(1, 13):\n",
    "    a = 84/x - x/2\n",
    "    if int(a)==a:\n",
    "        n=a**2-100\n",
    "        print(n)"
   ]
  },
  {
   "cell_type": "markdown",
   "metadata": {},
   "source": [
    " ###  输入某年某月某日，判断这一天是这一年的第几天"
   ]
  },
  {
   "cell_type": "code",
   "execution_count": 4,
   "metadata": {},
   "outputs": [
    {
     "name": "stdout",
     "output_type": "stream",
     "text": [
      "输入年份2332\n",
      "输入月份3\n",
      "输入日4\n"
     ]
    },
    {
     "data": {
      "text/plain": [
       "64"
      ]
     },
     "execution_count": 4,
     "metadata": {},
     "output_type": "execute_result"
    }
   ],
   "source": [
    "year = int(input(\"输入年份\"))\n",
    "month = int(input(\"输入月份\"))\n",
    "day = int(input(\"输入日\"))\n",
    "def calculateDay(year, month, day):\n",
    "    days = [31, 28, 31, 30, 31, 30, 31, 31, 30, 31, 30, 31, 30]\n",
    "    counterResult = sum(days[0:month-1]) + day\n",
    "    if (year%4==0) or ((year%400==0) and (year%100!=0)):\n",
    "        if month>2:\n",
    "            counterResult+=1\n",
    "    return counterResult\n",
    "calculateDay(year, month, day)"
   ]
  },
  {
   "cell_type": "markdown",
   "metadata": {},
   "source": [
    "### 输入三个整数x,y,z，请把这三个数由小到大输出"
   ]
  },
  {
   "cell_type": "code",
   "execution_count": 5,
   "metadata": {},
   "outputs": [
    {
     "name": "stdout",
     "output_type": "stream",
     "text": [
      "输入第1个整数1\n",
      "输入第2个整数23\n",
      "输入第3个整数6\n",
      "[1, 6, 23]\n"
     ]
    }
   ],
   "source": [
    "def printNumberByOrder():\n",
    "    arr = []\n",
    "    for i in range(0, 3):\n",
    "        arr.append(int(input(\"输入第\"+str(i+1)+\"个整数\")))\n",
    "    arr.sort()\n",
    "    print(arr)\n",
    "printNumberByOrder()"
   ]
  },
  {
   "cell_type": "markdown",
   "metadata": {},
   "source": [
    "### 斐波那契数列 "
   ]
  },
  {
   "cell_type": "code",
   "execution_count": 6,
   "metadata": {},
   "outputs": [
    {
     "name": "stdout",
     "output_type": "stream",
     "text": [
      "55\n"
     ]
    }
   ],
   "source": [
    "def fib(n):\n",
    "    if n==1 or n==2:\n",
    "        return 1\n",
    "    return fib(n-1)+fib(n-2)\n",
    "print(fib(10))"
   ]
  },
  {
   "cell_type": "markdown",
   "metadata": {},
   "source": [
    "### 循环斐波那契数列 "
   ]
  },
  {
   "cell_type": "code",
   "execution_count": 7,
   "metadata": {},
   "outputs": [
    {
     "name": "stdout",
     "output_type": "stream",
     "text": [
      "[1, 1, 2, 3, 5, 8, 13, 21, 34, 55, 89, 144, 233, 377, 610, 987, 1597, 2584, 4181, 6765, 10946, 17711, 28657, 46368, 75025, 121393, 196418, 317811, 514229, 832040, 1346269, 2178309, 3524578, 5702887, 9227465, 14930352, 24157817, 39088169, 63245986, 102334155, 165580141, 267914296, 433494437, 701408733, 1134903170, 1836311903, 2971215073, 4807526976, 7778742049, 12586269025, 20365011074, 32951280099, 53316291173, 86267571272, 139583862445, 225851433717, 365435296162, 591286729879, 956722026041, 1548008755920, 2504730781961, 4052739537881, 6557470319842, 10610209857723, 17167680177565, 27777890035288, 44945570212853, 72723460248141, 117669030460994, 190392490709135, 308061521170129, 498454011879264, 806515533049393, 1304969544928657, 2111485077978050, 3416454622906707, 5527939700884757, 8944394323791464, 14472334024676221, 23416728348467685, 37889062373143906, 61305790721611591, 99194853094755497, 160500643816367088, 259695496911122585, 420196140727489673, 679891637638612258, 1100087778366101931, 1779979416004714189, 2880067194370816120, 4660046610375530309, 7540113804746346429, 12200160415121876738, 19740274219868223167, 31940434634990099905, 51680708854858323072, 83621143489848422977, 135301852344706746049, 218922995834555169026, 354224848179261915075]\n"
     ]
    }
   ],
   "source": [
    "def loopFib(n):\n",
    "    arr = [1, 1]\n",
    "    for i in range(2, n):\n",
    "        arr.append(arr[i-1]+arr[i-2])\n",
    "    print(arr)\n",
    "loopFib(100)"
   ]
  },
  {
   "cell_type": "markdown",
   "metadata": {},
   "source": [
    "### 拷贝列表 "
   ]
  },
  {
   "cell_type": "code",
   "execution_count": 8,
   "metadata": {},
   "outputs": [
    {
     "name": "stdout",
     "output_type": "stream",
     "text": [
      "[1, 2, 3]\n",
      "[1, 2, 3]\n"
     ]
    }
   ],
   "source": [
    "a = [1, 2, 3]\n",
    "b = a.copy()\n",
    "c = a[:]\n",
    "print(b)\n",
    "print(c)"
   ]
  },
  {
   "cell_type": "markdown",
   "metadata": {},
   "source": [
    "### 输出乘法口诀表"
   ]
  },
  {
   "cell_type": "code",
   "execution_count": 9,
   "metadata": {},
   "outputs": [
    {
     "name": "stdout",
     "output_type": "stream",
     "text": [
      "['1*1=1 ']\n",
      "['2*1=2 ', '2*2=4 ']\n",
      "['3*1=3 ', '3*2=6 ', '3*3=9 ']\n",
      "['4*1=4 ', '4*2=8 ', '4*3=12 ', '4*4=16 ']\n",
      "['5*1=5 ', '5*2=10 ', '5*3=15 ', '5*4=20 ', '5*5=25 ']\n",
      "['6*1=6 ', '6*2=12 ', '6*3=18 ', '6*4=24 ', '6*5=30 ', '6*6=36 ']\n",
      "['7*1=7 ', '7*2=14 ', '7*3=21 ', '7*4=28 ', '7*5=35 ', '7*6=42 ', '7*7=49 ']\n",
      "['8*1=8 ', '8*2=16 ', '8*3=24 ', '8*4=32 ', '8*5=40 ', '8*6=48 ', '8*7=56 ', '8*8=64 ']\n",
      "['9*1=9 ', '9*2=18 ', '9*3=27 ', '9*4=36 ', '9*5=45 ', '9*6=54 ', '9*7=63 ', '9*8=72 ', '9*9=81 ']\n"
     ]
    }
   ],
   "source": [
    "def printPlusTable(n):\n",
    "    for i in range(1, n+1):\n",
    "        counter = 1\n",
    "        stack = []\n",
    "        while counter<=i:\n",
    "            stack.append(str(i)+\"*\"+str(counter)+\"=\"+str(i*counter)+\" \")\n",
    "            counter+=1\n",
    "        print(stack)\n",
    "printPlusTable(9)"
   ]
  },
  {
   "cell_type": "markdown",
   "metadata": {},
   "source": [
    "### 暂停一秒的输出"
   ]
  },
  {
   "cell_type": "code",
   "execution_count": 10,
   "metadata": {},
   "outputs": [
    {
     "name": "stdout",
     "output_type": "stream",
     "text": [
      "1 a\n",
      "2 b\n"
     ]
    }
   ],
   "source": [
    "import time\n",
    "myD = {1:'a', 2:'b'}\n",
    "for key, value in dict.items(myD):\n",
    "    time.sleep(2)\n",
    "    print(key, value)"
   ]
  },
  {
   "cell_type": "markdown",
   "metadata": {},
   "source": [
    "### 输入格式化时间"
   ]
  },
  {
   "cell_type": "code",
   "execution_count": 11,
   "metadata": {},
   "outputs": [
    {
     "name": "stdout",
     "output_type": "stream",
     "text": [
      "2018-03-19 10:53:39\n"
     ]
    }
   ],
   "source": [
    "import time\n",
    "print(time.strftime('%Y-%m-%d %H:%M:%S', time.localtime(time.time())))"
   ]
  },
  {
   "cell_type": "markdown",
   "metadata": {},
   "source": [
    "### 判断101-200之间有多少个素数，并输出所有素数"
   ]
  },
  {
   "cell_type": "code",
   "execution_count": 12,
   "metadata": {},
   "outputs": [
    {
     "name": "stdout",
     "output_type": "stream",
     "text": [
      "[101, 103, 107, 109, 113, 127, 131, 137, 139, 149, 151, 157, 163, 167, 173, 179, 181, 191, 193, 197, 199]\n"
     ]
    }
   ],
   "source": [
    "from math import sqrt\n",
    "def findPrimeNumber():\n",
    "    arr = []\n",
    "    for i in range(101, 201):\n",
    "        flag = True\n",
    "        k = int(sqrt(i+1))+1\n",
    "        for j in range(2, k):\n",
    "            if i%j==0:\n",
    "                flag = False\n",
    "                break\n",
    "        if flag:\n",
    "            arr.append(i)\n",
    "    print(arr)\n",
    "findPrimeNumber()"
   ]
  },
  {
   "cell_type": "markdown",
   "metadata": {},
   "source": [
    "### 打印100到999水仙花数"
   ]
  },
  {
   "cell_type": "code",
   "execution_count": 13,
   "metadata": {},
   "outputs": [
    {
     "name": "stdout",
     "output_type": "stream",
     "text": [
      "[153, 370, 371, 407]\n"
     ]
    }
   ],
   "source": [
    "def printSxhNumber():\n",
    "    arr = []\n",
    "    for i in range(100, 1000):\n",
    "        s = str(i)\n",
    "        if (int(s[0])**3+int(s[1])**3+int(s[2])**3)==i:\n",
    "            arr.append(i)\n",
    "    print(arr)\n",
    "printSxhNumber()"
   ]
  },
  {
   "cell_type": "markdown",
   "metadata": {},
   "source": [
    "### 分解整数质因数"
   ]
  },
  {
   "cell_type": "code",
   "execution_count": 14,
   "metadata": {},
   "outputs": [
    {
     "data": {
      "text/plain": [
       "[17, 19]"
      ]
     },
     "execution_count": 14,
     "metadata": {},
     "output_type": "execute_result"
    }
   ],
   "source": [
    "def decouple(n):\n",
    "    arr = []\n",
    "    while n!=1:\n",
    "        for i in range(2, n+1):\n",
    "            if n%i==0:\n",
    "                arr.append(i)\n",
    "                n=int(n/i)\n",
    "                break;\n",
    "    return arr\n",
    "decouple(323)"
   ]
  },
  {
   "cell_type": "markdown",
   "metadata": {},
   "source": [
    "### 学习成绩>=90分的同学用A表示，60-89分之间的用B表示，60分以下的用C表示。"
   ]
  },
  {
   "cell_type": "code",
   "execution_count": 15,
   "metadata": {},
   "outputs": [
    {
     "name": "stdout",
     "output_type": "stream",
     "text": [
      "90 属于 A\n"
     ]
    }
   ],
   "source": [
    "def defineScore(n):\n",
    "    scoretype = ''\n",
    "    if n >= 90:\n",
    "        scoretype = 'A'\n",
    "    elif n >= 60:\n",
    "        scoretype = 'B'\n",
    "    else:\n",
    "        scoretype = 'C'\n",
    "    print('%d 属于 %s' % (n, scoretype))\n",
    "defineScore(90)"
   ]
  },
  {
   "cell_type": "markdown",
   "metadata": {},
   "source": [
    "### 输出指定格式的日期"
   ]
  },
  {
   "cell_type": "code",
   "execution_count": 16,
   "metadata": {},
   "outputs": [
    {
     "name": "stdout",
     "output_type": "stream",
     "text": [
      "19/03/2018\n",
      "01/10/1949\n",
      "02/10/1949\n",
      "01/10/1950\n"
     ]
    }
   ],
   "source": [
    "import datetime\n",
    "# print date format\n",
    "print(datetime.date.today().strftime('%d/%m/%Y'))\n",
    "mydate = datetime.date(1949, 10, 1)\n",
    "print(mydate.strftime('%d/%m/%Y'))\n",
    "# date calculate\n",
    "mydateNextDate = mydate+datetime.timedelta(days=1)\n",
    "print(mydateNextDate.strftime('%d/%m/%Y'))\n",
    "# date replace\n",
    "mydatereplaceyear = mydate.replace(year=mydate.year+1)\n",
    "print(mydatereplaceyear.strftime('%d/%m/%Y'))"
   ]
  },
  {
   "cell_type": "markdown",
   "metadata": {},
   "source": [
    "### 输入一行字符，分别统计出其中英文字母、空格、数字和其它字符的个数。"
   ]
  },
  {
   "cell_type": "code",
   "execution_count": 17,
   "metadata": {},
   "outputs": [
    {
     "name": "stdout",
     "output_type": "stream",
     "text": [
      "input a string:\n",
      "222\n",
      "char = 0,space = 0,digit = 3,others = 0\n"
     ]
    }
   ],
   "source": [
    "import string\n",
    "s = input('input a string:\\n')\n",
    "letters = 0\n",
    "space = 0\n",
    "digit = 0\n",
    "others = 0\n",
    "for c in s:\n",
    "    if c.isalpha():\n",
    "        letters+=1\n",
    "    elif c.isspace():\n",
    "        space+=1\n",
    "    elif c.isdigit():\n",
    "        digit+=1\n",
    "    else:\n",
    "        others+=1\n",
    "print('char = %d,space = %d,digit = %d,others = %d' % (letters,space,digit,others))"
   ]
  },
  {
   "cell_type": "markdown",
   "metadata": {},
   "source": [
    "### 求s=a+aa+aaa+aaaa+aa...a的值，其中a是一个数字。例如2+22+222+2222+22222(此时共有5个数相加)，几个数相加由键盘控制"
   ]
  },
  {
   "cell_type": "code",
   "execution_count": 18,
   "metadata": {},
   "outputs": [
    {
     "name": "stdout",
     "output_type": "stream",
     "text": [
      "24690\n"
     ]
    }
   ],
   "source": [
    "def strangeCal(n, a):\n",
    "    sum = 0\n",
    "    for i in range(1, n+1):\n",
    "        sum+=a*(10**(i-1))*(n-i+1)\n",
    "    print(sum)\n",
    "strangeCal(5,2)"
   ]
  },
  {
   "cell_type": "markdown",
   "metadata": {},
   "source": [
    "### 一个数如果恰好等于它的因子之和，这个数就称为\"完数\"。例如6=1＋2＋3.编程找出1000以内的所有完数"
   ]
  },
  {
   "cell_type": "code",
   "execution_count": 19,
   "metadata": {},
   "outputs": [
    {
     "name": "stdout",
     "output_type": "stream",
     "text": [
      "[6, 28, 496]\n"
     ]
    }
   ],
   "source": [
    "def decoupleNumber(n):\n",
    "    arr = []\n",
    "    for i in range(1, int(n/2)+1):\n",
    "        if n%i==0:\n",
    "            arr.append(i)\n",
    "    return arr\n",
    "def findCompleteNumber():\n",
    "    comNum = []\n",
    "    for i in range(1, 1000):\n",
    "        arr = decoupleNumber(i)\n",
    "        if sum(arr)==i:\n",
    "            comNum.append(i)\n",
    "    return comNum\n",
    "print(findCompleteNumber())"
   ]
  },
  {
   "cell_type": "markdown",
   "metadata": {},
   "source": [
    "### 一球从100米高度自由落下，每次落地后反跳回原高度的一半；再落下，求它在第10次落地时，共经过多少米？第10次反弹多高？"
   ]
  },
  {
   "cell_type": "code",
   "execution_count": 20,
   "metadata": {},
   "outputs": [
    {
     "name": "stdout",
     "output_type": "stream",
     "text": [
      "第 10 次落地经过 299.609375 米， 第10次反弹 0.097656 米高\n"
     ]
    }
   ],
   "source": [
    "def calcBounceBack(n):\n",
    "    length = 0\n",
    "    hight = 100\n",
    "    for i in range(1, n+1):\n",
    "        length+=hight\n",
    "        hight/=2\n",
    "        if(i!=n):\n",
    "            length+=hight\n",
    "    print('第 %d 次落地经过 %f 米， 第%d次反弹 %f 米高' % (n, length, n, hight))\n",
    "calcBounceBack(10)"
   ]
  },
  {
   "cell_type": "markdown",
   "metadata": {},
   "source": [
    "### 猴子吃桃问题：猴子第一天摘下若干个桃子，当即吃了一半，还不瘾，又多吃了一个第二天早上又将剩下的桃子吃掉一半，又多吃了一个。以后每天早上都吃了前一天剩下的一半零一个。到第10天早上想再吃时，见只剩下一个桃子了。求第一天共摘了多少。"
   ]
  },
  {
   "cell_type": "code",
   "execution_count": 21,
   "metadata": {},
   "outputs": [
    {
     "name": "stdout",
     "output_type": "stream",
     "text": [
      "day 9 has 4 peaches\n",
      "day 8 has 10 peaches\n",
      "day 7 has 22 peaches\n",
      "day 6 has 46 peaches\n",
      "day 5 has 94 peaches\n",
      "day 4 has 190 peaches\n",
      "day 3 has 382 peaches\n",
      "day 2 has 766 peaches\n",
      "day 1 has 1534 peaches\n"
     ]
    }
   ],
   "source": [
    "def monkeyPeach():\n",
    "    day = 10\n",
    "    peach = 1\n",
    "    while day > 1:\n",
    "        day-=1\n",
    "        peach+=1\n",
    "        peach*=2\n",
    "        print('day %d has %d peaches' % (day, peach))\n",
    "monkeyPeach()"
   ]
  },
  {
   "cell_type": "markdown",
   "metadata": {},
   "source": [
    "### 两个乒乓球队进行比赛，各出三人。甲队为a,b,c三人，乙队为x,y,z三人。已抽签决定比赛名单。有人向队员打听比赛的名单。a说他不和x比，c说他不和x,z比，请编程序找出三队赛手的名单。"
   ]
  },
  {
   "cell_type": "markdown",
   "metadata": {},
   "source": [
    "### 打印出如下图案（菱形）:"
   ]
  },
  {
   "cell_type": "markdown",
   "metadata": {},
   "source": [
    "### 有一分数序列：2/1，3/2，5/3，8/5，13/8，21/13...求出这个数列的前20项之和"
   ]
  },
  {
   "cell_type": "code",
   "execution_count": 22,
   "metadata": {},
   "outputs": [
    {
     "name": "stdout",
     "output_type": "stream",
     "text": [
      "[Fraction(2, 1), Fraction(3, 2), Fraction(5, 3), Fraction(8, 5), Fraction(13, 8), Fraction(21, 13), Fraction(34, 21), Fraction(55, 34), Fraction(89, 55), Fraction(144, 89), Fraction(233, 144), Fraction(377, 233), Fraction(610, 377), Fraction(987, 610), Fraction(1597, 987), Fraction(2584, 1597), Fraction(4181, 2584), Fraction(6765, 4181), Fraction(10946, 6765), Fraction(17711, 10946)]\n",
      "32.660260798641644\n"
     ]
    }
   ],
   "source": [
    "import fractions as fa\n",
    "def calculateSub():\n",
    "    a, b= 1, 2\n",
    "    temp = 0\n",
    "    sumResult = 0\n",
    "    arr = []\n",
    "    for i in range(1, 21):\n",
    "        arr.append(fa.Fraction(b,a));\n",
    "        temp = a+ b\n",
    "        a=b\n",
    "        b=temp\n",
    "    return arr\n",
    "arr = calculateSub()\n",
    "print(arr)\n",
    "print(float(sum(arr)))"
   ]
  },
  {
   "cell_type": "markdown",
   "metadata": {},
   "source": [
    "### 求1+2!+3!+...+20!的和。"
   ]
  },
  {
   "cell_type": "code",
   "execution_count": 23,
   "metadata": {},
   "outputs": [
    {
     "name": "stdout",
     "output_type": "stream",
     "text": [
      "1\n",
      "2\n",
      "6\n",
      "24\n",
      "120\n",
      "720\n",
      "5040\n",
      "40320\n",
      "362880\n",
      "3628800\n",
      "39916800\n",
      "479001600\n",
      "6227020800\n",
      "87178291200\n",
      "1307674368000\n",
      "20922789888000\n",
      "355687428096000\n",
      "6402373705728000\n",
      "121645100408832000\n",
      "2432902008176640000\n",
      "1! + 2! + 3! + ... + 20! = 2561327494111820313\n"
     ]
    }
   ],
   "source": [
    "n = 0\n",
    "s = 0\n",
    "t = 1\n",
    "for n in range(1,21):\n",
    "    t *= n\n",
    "    print(t)\n",
    "    s += t\n",
    "print('1! + 2! + 3! + ... + 20! = %d' % s)"
   ]
  },
  {
   "cell_type": "markdown",
   "metadata": {},
   "source": [
    "### 利用递归方法求5!。"
   ]
  },
  {
   "cell_type": "code",
   "execution_count": 24,
   "metadata": {},
   "outputs": [
    {
     "name": "stdout",
     "output_type": "stream",
     "text": [
      "120\n"
     ]
    }
   ],
   "source": [
    "def loopFun(n):\n",
    "    if n ==1:\n",
    "        return 1\n",
    "    else:\n",
    "        return loopFun(n-1)*n\n",
    "print(loopFun(5))"
   ]
  },
  {
   "cell_type": "markdown",
   "metadata": {},
   "source": [
    "### 利用递归函数调用方式，将所输入的5个字符，以相反顺序打印出来。"
   ]
  },
  {
   "cell_type": "code",
   "execution_count": 25,
   "metadata": {},
   "outputs": [
    {
     "data": {
      "text/plain": [
       "'edcba'"
      ]
     },
     "execution_count": 25,
     "metadata": {},
     "output_type": "execute_result"
    }
   ],
   "source": [
    "def printReverString(s):\n",
    "    if len(s)==1:\n",
    "        return s\n",
    "    else:\n",
    "        return s[len(s)-1] + printReverString(s[:len(s)-1])\n",
    "printReverString('abcde')"
   ]
  },
  {
   "cell_type": "markdown",
   "metadata": {},
   "source": [
    "### 有5个人坐在一起，问第五个人多少岁？他说比第4个人大2岁。问第4个人岁数，他说比第3个人大2岁。问第三个人，又说比第2人大两岁。问第2个人，说比第一个人大两岁。最后问第一个人，他说是10岁。请问第五个人多大？"
   ]
  },
  {
   "cell_type": "code",
   "execution_count": 26,
   "metadata": {},
   "outputs": [
    {
     "name": "stdout",
     "output_type": "stream",
     "text": [
      "18\n"
     ]
    }
   ],
   "source": [
    "def askAge(n):\n",
    "    if n==1:\n",
    "        return 10\n",
    "    else:\n",
    "        return askAge(n-1)+2\n",
    "print(askAge(5))"
   ]
  },
  {
   "cell_type": "markdown",
   "metadata": {},
   "source": [
    "### 给一个不多于5位的正整数，要求：一、求它是几位数，二、逆序打印出各位数字。"
   ]
  },
  {
   "cell_type": "code",
   "execution_count": 27,
   "metadata": {},
   "outputs": [
    {
     "name": "stdout",
     "output_type": "stream",
     "text": [
      "12345 位数是 5, 逆序输出是： \n",
      "['5', '4', '3', '2', '1']\n"
     ]
    }
   ],
   "source": [
    "def printNumberRevers(n):\n",
    "    arr = []\n",
    "    for i in range(0, len(str(n))):\n",
    "        arr.append(str(n)[i])\n",
    "    print(\"%d 位数是 %d, 逆序输出是： \" % (n, len(arr)))\n",
    "    arr.reverse()\n",
    "    print(arr)\n",
    "printNumberRevers(12345)"
   ]
  },
  {
   "cell_type": "code",
   "execution_count": 28,
   "metadata": {},
   "outputs": [
    {
     "name": "stdout",
     "output_type": "stream",
     "text": [
      "5\n"
     ]
    }
   ],
   "source": [
    "n =12344\n",
    "print(len(str(n)))"
   ]
  },
  {
   "cell_type": "markdown",
   "metadata": {},
   "source": [
    "### 一个5位数，判断它是不是回文数。即12321是回文数，个位与万位相同，十位与千位相同。"
   ]
  },
  {
   "cell_type": "code",
   "execution_count": 29,
   "metadata": {},
   "outputs": [
    {
     "data": {
      "text/plain": [
       "True"
      ]
     },
     "execution_count": 29,
     "metadata": {},
     "output_type": "execute_result"
    }
   ],
   "source": [
    "def isLoopNumber(n):\n",
    "    a = str(n)[::-1]\n",
    "    return int(a)==n\n",
    "isLoopNumber(12321)"
   ]
  },
  {
   "cell_type": "markdown",
   "metadata": {},
   "source": [
    "### 按相反的顺序输出列表的值。"
   ]
  },
  {
   "cell_type": "code",
   "execution_count": 30,
   "metadata": {},
   "outputs": [
    {
     "name": "stdout",
     "output_type": "stream",
     "text": [
      "three\n",
      "two\n",
      "one\n"
     ]
    }
   ],
   "source": [
    "a = [\"one\", \"two\", \"three\"]\n",
    "for i in a[::-1]:\n",
    "    print(i)"
   ]
  },
  {
   "cell_type": "markdown",
   "metadata": {},
   "source": [
    "### 按逗号连接分隔列表。"
   ]
  },
  {
   "cell_type": "code",
   "execution_count": 31,
   "metadata": {},
   "outputs": [
    {
     "data": {
      "text/plain": [
       "'1,2,3,4,5'"
      ]
     },
     "execution_count": 31,
     "metadata": {},
     "output_type": "execute_result"
    }
   ],
   "source": [
    "arr = [1,2,3,4,5]\n",
    "s = ','.join(str(n) for n in arr)\n",
    "s"
   ]
  },
  {
   "cell_type": "markdown",
   "metadata": {},
   "source": [
    "### 练习函数调用。"
   ]
  },
  {
   "cell_type": "code",
   "execution_count": 32,
   "metadata": {},
   "outputs": [
    {
     "name": "stdout",
     "output_type": "stream",
     "text": [
      "hello world\n",
      "hello world\n",
      "hello world\n"
     ]
    }
   ],
   "source": [
    "import time\n",
    "def hello_world():\n",
    "    print('hello world')\n",
    "def three_hellos():\n",
    "    for i in range(0, 3):\n",
    "        hello_world()\n",
    "        time.sleep(1)\n",
    "if __name__ == '__main__':\n",
    "    three_hellos()"
   ]
  },
  {
   "cell_type": "markdown",
   "metadata": {},
   "source": [
    "### 文本颜色设置。"
   ]
  },
  {
   "cell_type": "code",
   "execution_count": 33,
   "metadata": {},
   "outputs": [
    {
     "name": "stdout",
     "output_type": "stream",
     "text": [
      "\u001b[91m警告的颜色字体?\u001b[0m\n"
     ]
    }
   ],
   "source": [
    "class bcolors:\n",
    "    HEADER = '\\033[95m'\n",
    "    OKBLUE = '\\033[94m'\n",
    "    OKGREEN = '\\033[92m'\n",
    "    WARNING = '\\033[93m'\n",
    "    FAIL = '\\033[91m'\n",
    "    ENDC = '\\033[0m'\n",
    "    BOLD = '\\033[1m'\n",
    "    UNDERLINE = '\\033[4m'\n",
    "print(bcolors.FAIL + \"警告的颜色字体?\" + bcolors.ENDC)"
   ]
  },
  {
   "cell_type": "markdown",
   "metadata": {},
   "source": [
    "### 求100之内的素数。"
   ]
  },
  {
   "cell_type": "code",
   "execution_count": 34,
   "metadata": {},
   "outputs": [
    {
     "name": "stdout",
     "output_type": "stream",
     "text": [
      "[2, 3, 5, 7, 11, 13, 17, 19, 23, 29, 31, 37, 41, 43, 47, 53, 59, 61, 67, 71, 73, 79, 83, 89, 97]\n"
     ]
    }
   ],
   "source": [
    "def findSingleNumber(n):\n",
    "    arr = []\n",
    "    for i in range(2, n+1):\n",
    "        flag = True\n",
    "        for j in range(2, int(i/2)+1):\n",
    "            if i%j ==0:\n",
    "                flag = False\n",
    "                break\n",
    "        if flag:\n",
    "            arr.append(i)\n",
    "    print(arr)\n",
    "findSingleNumber(100)"
   ]
  },
  {
   "cell_type": "markdown",
   "metadata": {},
   "source": [
    "### 对10个数进行排序"
   ]
  },
  {
   "cell_type": "code",
   "execution_count": 35,
   "metadata": {},
   "outputs": [
    {
     "name": "stdout",
     "output_type": "stream",
     "text": [
      "[1, 2, 3, 4, 5, 10, 10, 123]\n"
     ]
    }
   ],
   "source": [
    "def sortNumbers(arr):\n",
    "    for i in range(0, len(arr)):\n",
    "        for j in range(i, len(arr)):\n",
    "            if arr[i] > arr[j]:\n",
    "                temp = arr[i]\n",
    "                arr[i] = arr[j]\n",
    "                arr[j] = temp\n",
    "    print(arr)\n",
    "sortNumbers([2,3,5,1,10, 10,123,4])"
   ]
  },
  {
   "cell_type": "markdown",
   "metadata": {},
   "source": [
    "### 求一个3*3矩阵主对角线元素之和。"
   ]
  },
  {
   "cell_type": "code",
   "execution_count": 36,
   "metadata": {},
   "outputs": [
    {
     "name": "stdout",
     "output_type": "stream",
     "text": [
      "15\n"
     ]
    }
   ],
   "source": [
    "arr = [[1,2,3],[4,5,6],[7,8,9]]\n",
    "def calculateLineSum(arr):\n",
    "    i= 0\n",
    "    sumRe = 0\n",
    "    for k in range(0, 3):\n",
    "        sumRe+=arr[i][i]\n",
    "        i+=1\n",
    "    print(sumRe)\n",
    "calculateLineSum(arr)"
   ]
  },
  {
   "cell_type": "markdown",
   "metadata": {},
   "source": [
    "### 有一个已经排好序的数组。现输入一个数，要求按原来的规律将它插入数组中。"
   ]
  },
  {
   "cell_type": "code",
   "execution_count": 37,
   "metadata": {},
   "outputs": [
    {
     "name": "stdout",
     "output_type": "stream",
     "text": [
      "[-1, 0, 0, 2, 3]\n"
     ]
    }
   ],
   "source": [
    "def insertNumber(arr, n):\n",
    "    #rr.append(n)\n",
    "    indx = -1\n",
    "    result = []\n",
    "    for i in range(0, len(arr)-1):\n",
    "        if (arr[i]<=n and arr[i+1]>=n) or (arr[i]>=n and arr[i+1]<=n):\n",
    "            indx = i\n",
    "            break\n",
    "    if indx !=-1:\n",
    "        result= arr[:indx+1]+[n]+arr[indx+1:]\n",
    "    elif (n>arr[0] and arr[0]<=arr[len(arr)-1]) or (n<arr[0] and arr[0]>=arr[len(arr)-1]):\n",
    "        result = arr+[n]\n",
    "    elif (n<arr[0]and arr[0]<=arr[len(arr)-1]) or (n>arr[0] and arr[0]>=arr[len(arr)-1]):\n",
    "        result = [n]+arr\n",
    "    else:\n",
    "        print('data error')\n",
    "    print(result)\n",
    "insertNumber([0,0,2,3], -1)"
   ]
  },
  {
   "cell_type": "markdown",
   "metadata": {},
   "source": [
    "### 将一个数组逆序输出。"
   ]
  },
  {
   "cell_type": "code",
   "execution_count": 38,
   "metadata": {},
   "outputs": [
    {
     "name": "stdout",
     "output_type": "stream",
     "text": [
      "3\n",
      "4\n",
      "5\n",
      "6\n",
      "9\n"
     ]
    }
   ],
   "source": [
    "def reverPrintArray(arr):\n",
    "    for i in arr[::-1]:\n",
    "        print(i)\n",
    "reverPrintArray([9,6,5,4,3])"
   ]
  },
  {
   "cell_type": "markdown",
   "metadata": {
    "collapsed": true
   },
   "source": [
    "### 两个 3 行 3 列的矩阵，实现其对应位置的数据相加，并返回一个新矩阵："
   ]
  },
  {
   "cell_type": "code",
   "execution_count": 39,
   "metadata": {},
   "outputs": [
    {
     "name": "stdout",
     "output_type": "stream",
     "text": [
      "[[17, 15, 4], [10, 12, 9], [11, 13, 19]]\n"
     ]
    }
   ],
   "source": [
    "X = [[12,7,3],\n",
    "    [4 ,5,6],\n",
    "    [7 ,8,9]]\n",
    "\n",
    "Y = [[5,8,1],\n",
    "    [6,7,3],\n",
    "    [4,5,10]]\n",
    "def addMatrix(x, y):\n",
    "    arr = []\n",
    "    for i in range(0, len(x)):\n",
    "        brr =[]\n",
    "        for j in range(0, len(x[i])):\n",
    "            brr.append(x[i][j]+y[i][j])\n",
    "        arr.append(brr)\n",
    "    print(arr)\n",
    "addMatrix(X, Y)"
   ]
  },
  {
   "cell_type": "markdown",
   "metadata": {},
   "source": [
    "### 统计 1 到 100 之和。"
   ]
  },
  {
   "cell_type": "code",
   "execution_count": 47,
   "metadata": {},
   "outputs": [
    {
     "data": {
      "text/plain": [
       "5050"
      ]
     },
     "execution_count": 47,
     "metadata": {},
     "output_type": "execute_result"
    }
   ],
   "source": [
    "def countSum(n):\n",
    "    return sum(range(1, n+1))\n",
    "countSum(100)"
   ]
  },
  {
   "cell_type": "markdown",
   "metadata": {
    "collapsed": true
   },
   "source": [
    "利用for循环控制100-999个数，每个数分解出个位，十位，百位。。### "
   ]
  },
  {
   "cell_type": "code",
   "execution_count": 50,
   "metadata": {
    "collapsed": true
   },
   "outputs": [],
   "source": [
    "if __name__  == '__main__':\n",
    "    from tkinter import *\n",
    "    canvas = Canvas(width = 300,height = 300,bg = 'green')\n",
    "    canvas.pack(expand = YES,fill = BOTH)\n",
    "    x0 = 150\n",
    "    y0 = 100\n",
    "    canvas.create_oval(x0 - 10,y0 - 10,x0 + 10,y0 + 10)\n",
    "    canvas.create_oval(x0 - 20,y0 - 20,x0 + 20,y0 + 20)\n",
    "    canvas.create_oval(x0 - 50,y0 - 50,x0 + 50,y0 + 50)\n",
    "    import math\n",
    "    B = 0.809\n",
    "    for i in range(16):\n",
    "        a = 2 * math.pi / 16 * i\n",
    "        x = math.ceil(x0 + 48 * math.cos(a))\n",
    "        y = math.ceil(y0 + 48 * math.sin(a) * B)\n",
    "        canvas.create_line(x0,y0,x,y,fill = 'red')\n",
    "    canvas.create_oval(x0 - 60,y0 - 60,x0 + 60,y0 + 60)\n",
    "    \n",
    "\n",
    "    for k in range(501):\n",
    "        for i in range(17):\n",
    "            a = (2 * math.pi / 16) * i + (2 * math.pi / 180) * k\n",
    "            x = math.ceil(x0 + 48 * math.cos(a))\n",
    "            y = math.ceil(y0 + 48 + math.sin(a) * B)\n",
    "            canvas.create_line(x0,y0,x,y,fill = 'red')\n",
    "        for j in range(51):\n",
    "            a = (2 * math.pi / 16) * i + (2* math.pi / 180) * k - 1\n",
    "            x = math.ceil(x0 + 48 * math.cos(a))\n",
    "            y = math.ceil(y0 + 48 * math.sin(a) * B)\n",
    "            canvas.create_line(x0,y0,x,y,fill = 'red')\n",
    "    mainloop()"
   ]
  },
  {
   "cell_type": "markdown",
   "metadata": {},
   "source": [
    "### 打印字符串"
   ]
  },
  {
   "cell_type": "code",
   "execution_count": 51,
   "metadata": {},
   "outputs": [
    {
     "name": "stdout",
     "output_type": "stream",
     "text": [
      "2\n"
     ]
    }
   ],
   "source": [
    "sStr1='abcdefg'\n",
    "sStr2='cde'\n",
    "print(sStr1.find(sStr2))"
   ]
  },
  {
   "cell_type": "markdown",
   "metadata": {},
   "source": [
    "### 画椭圆"
   ]
  },
  {
   "cell_type": "code",
   "execution_count": 55,
   "metadata": {},
   "outputs": [],
   "source": [
    "if __name__ == '__main__':\n",
    "    from tkinter import *\n",
    "    x  = 360\n",
    "    y = 160\n",
    "    top = y - 30\n",
    "    bottom = y - 30\n",
    "    \n",
    "    canvas = Canvas(width = 400, height = 600, bg = 'white')\n",
    "    for i in range(20):\n",
    "        canvas.create_oval(250 - top, 250 - bottom, 250 + top, 250 + bottom)\n",
    "        top -= 5\n",
    "        bottom += 5\n",
    "    canvas.pack()\n",
    "    mainloop()"
   ]
  },
  {
   "cell_type": "markdown",
   "metadata": {},
   "source": [
    "### 利用ellipse 和 rectangle 画图。。"
   ]
  },
  {
   "cell_type": "code",
   "execution_count": 56,
   "metadata": {
    "collapsed": true
   },
   "outputs": [],
   "source": [
    "#!/usr/bin/python\n",
    "# -*- coding: UTF-8 -*-\n",
    "\n",
    "if __name__ == '__main__':\n",
    "    from tkinter import *\n",
    "    canvas = Canvas(width = 400,height = 600,bg = 'white')\n",
    "    left = 20\n",
    "    right = 50\n",
    "    top = 50\n",
    "    num = 15\n",
    "    for i in range(num):\n",
    "        canvas.create_oval(250 - right,250 - left,250 + right,250 + left)\n",
    "        canvas.create_oval(250 - 20,250 - top,250 + 20,250 + top)\n",
    "        canvas.create_rectangle(20 - 2 * i,20 - 2 * i,10 * (i + 2),10 * ( i + 2))\n",
    "        right += 5\n",
    "        left += 5\n",
    "        top += 10\n",
    "\n",
    "    canvas.pack()\n",
    "    mainloop()"
   ]
  },
  {
   "cell_type": "code",
   "execution_count": null,
   "metadata": {
    "collapsed": true
   },
   "outputs": [],
   "source": []
  }
 ],
 "metadata": {
  "kernelspec": {
   "display_name": "Python 3",
   "language": "python",
   "name": "python3"
  },
  "language_info": {
   "codemirror_mode": {
    "name": "ipython",
    "version": 3
   },
   "file_extension": ".py",
   "mimetype": "text/x-python",
   "name": "python",
   "nbconvert_exporter": "python",
   "pygments_lexer": "ipython3",
   "version": "3.5.2"
  }
 },
 "nbformat": 4,
 "nbformat_minor": 2
}
